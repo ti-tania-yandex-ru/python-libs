{
 "cells": [
  {
   "cell_type": "code",
   "execution_count": 15,
   "id": "514dc296",
   "metadata": {},
   "outputs": [],
   "source": [
    "import numpy as np"
   ]
  },
  {
   "cell_type": "markdown",
   "id": "12e9942e",
   "metadata": {},
   "source": [
    "#### task1 "
   ]
  },
  {
   "cell_type": "code",
   "execution_count": 5,
   "id": "d11f26fb",
   "metadata": {},
   "outputs": [],
   "source": [
    "a = np.array([[1, 6],[2, 8], [3, 11], [3, 10], [1, 7]])"
   ]
  },
  {
   "cell_type": "code",
   "execution_count": 6,
   "id": "bfc9d7ae",
   "metadata": {},
   "outputs": [
    {
     "data": {
      "text/plain": [
       "array([[ 1,  6],\n",
       "       [ 2,  8],\n",
       "       [ 3, 11],\n",
       "       [ 3, 10],\n",
       "       [ 1,  7]])"
      ]
     },
     "execution_count": 6,
     "metadata": {},
     "output_type": "execute_result"
    }
   ],
   "source": [
    "a"
   ]
  },
  {
   "cell_type": "code",
   "execution_count": 7,
   "id": "30a4b369",
   "metadata": {},
   "outputs": [],
   "source": [
    "mean_a = a.mean(axis=0)"
   ]
  },
  {
   "cell_type": "code",
   "execution_count": 32,
   "id": "4122df7c",
   "metadata": {},
   "outputs": [
    {
     "data": {
      "text/plain": [
       "array([2. , 8.4])"
      ]
     },
     "execution_count": 32,
     "metadata": {},
     "output_type": "execute_result"
    }
   ],
   "source": [
    "mean_a"
   ]
  },
  {
   "cell_type": "markdown",
   "id": "927fee42",
   "metadata": {},
   "source": [
    "#### task2"
   ]
  },
  {
   "cell_type": "code",
   "execution_count": 9,
   "id": "1ef7ad86",
   "metadata": {},
   "outputs": [],
   "source": [
    "a_centered = a - mean_a"
   ]
  },
  {
   "cell_type": "code",
   "execution_count": 33,
   "id": "63b6198c",
   "metadata": {},
   "outputs": [
    {
     "data": {
      "text/plain": [
       "array([[-1. , -2.4],\n",
       "       [ 0. , -0.4],\n",
       "       [ 1. ,  2.6],\n",
       "       [ 1. ,  1.6],\n",
       "       [-1. , -1.4]])"
      ]
     },
     "execution_count": 33,
     "metadata": {},
     "output_type": "execute_result"
    }
   ],
   "source": [
    "a_centered"
   ]
  },
  {
   "cell_type": "markdown",
   "id": "b02e5c78",
   "metadata": {},
   "source": [
    "#### task3"
   ]
  },
  {
   "cell_type": "code",
   "execution_count": 28,
   "id": "a4938c81",
   "metadata": {},
   "outputs": [],
   "source": [
    "column1 = np.array(a_centered.T[0])"
   ]
  },
  {
   "cell_type": "code",
   "execution_count": 29,
   "id": "798dfb76",
   "metadata": {},
   "outputs": [
    {
     "name": "stdout",
     "output_type": "stream",
     "text": [
      "[-1.  0.  1.  1. -1.]\n"
     ]
    }
   ],
   "source": [
    "print(column1)"
   ]
  },
  {
   "cell_type": "code",
   "execution_count": 30,
   "id": "eef4ade5",
   "metadata": {
    "scrolled": true
   },
   "outputs": [
    {
     "name": "stdout",
     "output_type": "stream",
     "text": [
      "[-2.4 -0.4  2.6  1.6 -1.4]\n"
     ]
    }
   ],
   "source": [
    "column2 = np.array(a_centered.T[1])\n",
    "print(column2)"
   ]
  },
  {
   "cell_type": "code",
   "execution_count": 31,
   "id": "fb143206",
   "metadata": {},
   "outputs": [
    {
     "name": "stdout",
     "output_type": "stream",
     "text": [
      "8.0\n"
     ]
    }
   ],
   "source": [
    "a_centered_sp = column1.dot(column2)\n",
    "print(a_centered_sp)"
   ]
  },
  {
   "cell_type": "code",
   "execution_count": 34,
   "id": "f4fd4f0e",
   "metadata": {},
   "outputs": [],
   "source": [
    "cov1 = a_centered_sp/(column1.size - 1)"
   ]
  },
  {
   "cell_type": "code",
   "execution_count": 35,
   "id": "8e8ce326",
   "metadata": {},
   "outputs": [
    {
     "name": "stdout",
     "output_type": "stream",
     "text": [
      "2.0\n"
     ]
    }
   ],
   "source": [
    "print(cov1)"
   ]
  },
  {
   "cell_type": "markdown",
   "id": "93cf0831",
   "metadata": {},
   "source": [
    "#### task4"
   ]
  },
  {
   "cell_type": "code",
   "execution_count": 36,
   "id": "5575f261",
   "metadata": {},
   "outputs": [],
   "source": [
    "cov2 = np.cov(a.T)[0, 1]"
   ]
  },
  {
   "cell_type": "code",
   "execution_count": 37,
   "id": "6aa2f9d2",
   "metadata": {},
   "outputs": [
    {
     "name": "stdout",
     "output_type": "stream",
     "text": [
      "2.0\n"
     ]
    }
   ],
   "source": [
    "print(cov2)"
   ]
  },
  {
   "cell_type": "code",
   "execution_count": null,
   "id": "ef54ede6",
   "metadata": {},
   "outputs": [],
   "source": []
  }
 ],
 "metadata": {
  "kernelspec": {
   "display_name": "Python 3 (ipykernel)",
   "language": "python",
   "name": "python3"
  },
  "language_info": {
   "codemirror_mode": {
    "name": "ipython",
    "version": 3
   },
   "file_extension": ".py",
   "mimetype": "text/x-python",
   "name": "python",
   "nbconvert_exporter": "python",
   "pygments_lexer": "ipython3",
   "version": "3.9.12"
  }
 },
 "nbformat": 4,
 "nbformat_minor": 5
}
